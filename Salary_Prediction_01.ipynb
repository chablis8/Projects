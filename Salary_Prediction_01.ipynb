{
  "nbformat": 4,
  "nbformat_minor": 0,
  "metadata": {
    "colab": {
      "name": "Salary_Prediction_01.ipynb",
      "provenance": [],
      "collapsed_sections": [],
      "authorship_tag": "ABX9TyMcB32rjjVNVoNwL67bJ+MZ",
      "include_colab_link": true
    },
    "kernelspec": {
      "name": "python3",
      "display_name": "Python 3"
    },
    "widgets": {
      "application/vnd.jupyter.widget-state+json": {
        "851bda9b0d8740e289a543e86df8834b": {
          "model_module": "@jupyter-widgets/controls",
          "model_name": "HBoxModel",
          "state": {
            "_view_name": "HBoxView",
            "_dom_classes": [],
            "_model_name": "HBoxModel",
            "_view_module": "@jupyter-widgets/controls",
            "_model_module_version": "1.5.0",
            "_view_count": null,
            "_view_module_version": "1.5.0",
            "box_style": "",
            "layout": "IPY_MODEL_8ef985ba996442369a7a8cc173315d44",
            "_model_module": "@jupyter-widgets/controls",
            "children": [
              "IPY_MODEL_603cf6b3c5db4acca192b1bf65225c9a",
              "IPY_MODEL_4edc05ec9f2b481b89b9e3f4bdc642ec",
              "IPY_MODEL_787599e6b09a435a90cda6b98271b056"
            ]
          }
        },
        "8ef985ba996442369a7a8cc173315d44": {
          "model_module": "@jupyter-widgets/base",
          "model_name": "LayoutModel",
          "state": {
            "_view_name": "LayoutView",
            "grid_template_rows": null,
            "right": null,
            "justify_content": null,
            "_view_module": "@jupyter-widgets/base",
            "overflow": null,
            "_model_module_version": "1.2.0",
            "_view_count": null,
            "flex_flow": "row wrap",
            "width": "100%",
            "min_width": null,
            "border": null,
            "align_items": null,
            "bottom": null,
            "_model_module": "@jupyter-widgets/base",
            "top": null,
            "grid_column": null,
            "overflow_y": null,
            "overflow_x": null,
            "grid_auto_flow": null,
            "grid_area": null,
            "grid_template_columns": null,
            "flex": null,
            "_model_name": "LayoutModel",
            "justify_items": null,
            "grid_row": null,
            "max_height": null,
            "align_content": null,
            "visibility": null,
            "align_self": null,
            "height": null,
            "min_height": null,
            "padding": null,
            "grid_auto_rows": null,
            "grid_gap": null,
            "max_width": null,
            "order": null,
            "_view_module_version": "1.2.0",
            "grid_template_areas": null,
            "object_position": null,
            "object_fit": null,
            "grid_auto_columns": null,
            "margin": null,
            "display": "inline-flex",
            "left": null
          }
        },
        "603cf6b3c5db4acca192b1bf65225c9a": {
          "model_module": "@jupyter-widgets/controls",
          "model_name": "HTMLModel",
          "state": {
            "_view_name": "HTMLView",
            "style": "IPY_MODEL_01fc2ddd705743fbb1d94060c8f712fc",
            "_dom_classes": [],
            "description": "",
            "_model_name": "HTMLModel",
            "placeholder": "​",
            "_view_module": "@jupyter-widgets/controls",
            "_model_module_version": "1.5.0",
            "value": "Done! Use &#x27;show&#x27; commands to display/save.   ",
            "_view_count": null,
            "_view_module_version": "1.5.0",
            "description_tooltip": null,
            "_model_module": "@jupyter-widgets/controls",
            "layout": "IPY_MODEL_c95e3beaefbb4cef85b7dd22b9091231"
          }
        },
        "4edc05ec9f2b481b89b9e3f4bdc642ec": {
          "model_module": "@jupyter-widgets/controls",
          "model_name": "FloatProgressModel",
          "state": {
            "_view_name": "ProgressView",
            "style": "IPY_MODEL_fd92ac694b5140c0aef87795b41ca8d3",
            "_dom_classes": [],
            "description": "",
            "_model_name": "FloatProgressModel",
            "bar_style": "success",
            "max": 1,
            "_view_module": "@jupyter-widgets/controls",
            "_model_module_version": "1.5.0",
            "value": 1,
            "_view_count": null,
            "_view_module_version": "1.5.0",
            "orientation": "horizontal",
            "min": 0,
            "description_tooltip": null,
            "_model_module": "@jupyter-widgets/controls",
            "layout": "IPY_MODEL_ac16e111bed84957a62437c83d5d413d"
          }
        },
        "787599e6b09a435a90cda6b98271b056": {
          "model_module": "@jupyter-widgets/controls",
          "model_name": "HTMLModel",
          "state": {
            "_view_name": "HTMLView",
            "style": "IPY_MODEL_645a7fc1ec7745efa324262405331b7c",
            "_dom_classes": [],
            "description": "",
            "_model_name": "HTMLModel",
            "placeholder": "​",
            "_view_module": "@jupyter-widgets/controls",
            "_model_module_version": "1.5.0",
            "value": " [100%]   00:00 -&gt; (00:00 left)",
            "_view_count": null,
            "_view_module_version": "1.5.0",
            "description_tooltip": null,
            "_model_module": "@jupyter-widgets/controls",
            "layout": "IPY_MODEL_154b41a5d1224aa68331136a157c986b"
          }
        },
        "01fc2ddd705743fbb1d94060c8f712fc": {
          "model_module": "@jupyter-widgets/controls",
          "model_name": "DescriptionStyleModel",
          "state": {
            "_view_name": "StyleView",
            "_model_name": "DescriptionStyleModel",
            "description_width": "",
            "_view_module": "@jupyter-widgets/base",
            "_model_module_version": "1.5.0",
            "_view_count": null,
            "_view_module_version": "1.2.0",
            "_model_module": "@jupyter-widgets/controls"
          }
        },
        "c95e3beaefbb4cef85b7dd22b9091231": {
          "model_module": "@jupyter-widgets/base",
          "model_name": "LayoutModel",
          "state": {
            "_view_name": "LayoutView",
            "grid_template_rows": null,
            "right": null,
            "justify_content": null,
            "_view_module": "@jupyter-widgets/base",
            "overflow": null,
            "_model_module_version": "1.2.0",
            "_view_count": null,
            "flex_flow": null,
            "width": null,
            "min_width": null,
            "border": null,
            "align_items": null,
            "bottom": null,
            "_model_module": "@jupyter-widgets/base",
            "top": null,
            "grid_column": null,
            "overflow_y": null,
            "overflow_x": null,
            "grid_auto_flow": null,
            "grid_area": null,
            "grid_template_columns": null,
            "flex": null,
            "_model_name": "LayoutModel",
            "justify_items": null,
            "grid_row": null,
            "max_height": null,
            "align_content": null,
            "visibility": null,
            "align_self": null,
            "height": null,
            "min_height": null,
            "padding": null,
            "grid_auto_rows": null,
            "grid_gap": null,
            "max_width": null,
            "order": null,
            "_view_module_version": "1.2.0",
            "grid_template_areas": null,
            "object_position": null,
            "object_fit": null,
            "grid_auto_columns": null,
            "margin": null,
            "display": null,
            "left": null
          }
        },
        "fd92ac694b5140c0aef87795b41ca8d3": {
          "model_module": "@jupyter-widgets/controls",
          "model_name": "ProgressStyleModel",
          "state": {
            "_view_name": "StyleView",
            "_model_name": "ProgressStyleModel",
            "description_width": "",
            "_view_module": "@jupyter-widgets/base",
            "_model_module_version": "1.5.0",
            "_view_count": null,
            "_view_module_version": "1.2.0",
            "bar_color": null,
            "_model_module": "@jupyter-widgets/controls"
          }
        },
        "ac16e111bed84957a62437c83d5d413d": {
          "model_module": "@jupyter-widgets/base",
          "model_name": "LayoutModel",
          "state": {
            "_view_name": "LayoutView",
            "grid_template_rows": null,
            "right": null,
            "justify_content": null,
            "_view_module": "@jupyter-widgets/base",
            "overflow": null,
            "_model_module_version": "1.2.0",
            "_view_count": null,
            "flex_flow": null,
            "width": null,
            "min_width": null,
            "border": null,
            "align_items": null,
            "bottom": null,
            "_model_module": "@jupyter-widgets/base",
            "top": null,
            "grid_column": null,
            "overflow_y": null,
            "overflow_x": null,
            "grid_auto_flow": null,
            "grid_area": null,
            "grid_template_columns": null,
            "flex": "2",
            "_model_name": "LayoutModel",
            "justify_items": null,
            "grid_row": null,
            "max_height": null,
            "align_content": null,
            "visibility": null,
            "align_self": null,
            "height": null,
            "min_height": null,
            "padding": null,
            "grid_auto_rows": null,
            "grid_gap": null,
            "max_width": null,
            "order": null,
            "_view_module_version": "1.2.0",
            "grid_template_areas": null,
            "object_position": null,
            "object_fit": null,
            "grid_auto_columns": null,
            "margin": null,
            "display": null,
            "left": null
          }
        },
        "645a7fc1ec7745efa324262405331b7c": {
          "model_module": "@jupyter-widgets/controls",
          "model_name": "DescriptionStyleModel",
          "state": {
            "_view_name": "StyleView",
            "_model_name": "DescriptionStyleModel",
            "description_width": "",
            "_view_module": "@jupyter-widgets/base",
            "_model_module_version": "1.5.0",
            "_view_count": null,
            "_view_module_version": "1.2.0",
            "_model_module": "@jupyter-widgets/controls"
          }
        },
        "154b41a5d1224aa68331136a157c986b": {
          "model_module": "@jupyter-widgets/base",
          "model_name": "LayoutModel",
          "state": {
            "_view_name": "LayoutView",
            "grid_template_rows": null,
            "right": null,
            "justify_content": null,
            "_view_module": "@jupyter-widgets/base",
            "overflow": null,
            "_model_module_version": "1.2.0",
            "_view_count": null,
            "flex_flow": null,
            "width": null,
            "min_width": null,
            "border": null,
            "align_items": null,
            "bottom": null,
            "_model_module": "@jupyter-widgets/base",
            "top": null,
            "grid_column": null,
            "overflow_y": null,
            "overflow_x": null,
            "grid_auto_flow": null,
            "grid_area": null,
            "grid_template_columns": null,
            "flex": null,
            "_model_name": "LayoutModel",
            "justify_items": null,
            "grid_row": null,
            "max_height": null,
            "align_content": null,
            "visibility": null,
            "align_self": null,
            "height": null,
            "min_height": null,
            "padding": null,
            "grid_auto_rows": null,
            "grid_gap": null,
            "max_width": null,
            "order": null,
            "_view_module_version": "1.2.0",
            "grid_template_areas": null,
            "object_position": null,
            "object_fit": null,
            "grid_auto_columns": null,
            "margin": null,
            "display": null,
            "left": null
          }
        }
      }
    }
  },
  "cells": [
    {
      "cell_type": "markdown",
      "metadata": {
        "id": "view-in-github",
        "colab_type": "text"
      },
      "source": [
        "<a href=\"https://colab.research.google.com/github/chablis8/Projects/blob/master/Salary_Prediction_01.ipynb\" target=\"_parent\"><img src=\"https://colab.research.google.com/assets/colab-badge.svg\" alt=\"Open In Colab\"/></a>"
      ]
    },
    {
      "cell_type": "markdown",
      "metadata": {
        "id": "Xx5ORN1qXcdK"
      },
      "source": [
        "# **Salary Predictions Based on Job Descriptions**"
      ]
    },
    {
      "cell_type": "markdown",
      "metadata": {
        "id": "-8pGpRUKXj0F"
      },
      "source": [
        "## **Part 1 - DEFINE**\n",
        "\n",
        "### ---- 1 Define a problem ---- \n",
        "Salary is always the vital indicator for job seeker to start the career. It's also important for employer. It is one of the difficult tasks for employer/HR to offer ideal salary to ideal candidate not only saves the budget for the company but also not overlook the talents of the candidates.\n",
        "\n",
        "### ---- Project Goal ----\n",
        "The main goals of the project is that help the Companies to hire the right candidates with the right salary based on various factors (degree, experiences etc.)\n",
        "\n",
        "__author__ = \"Jeffrey Wong\"\n",
        "\n",
        "__email__ = \"jeffrey-wong@live.com\"\n",
        "\n",
        "__acknowledgement__ = \"Data Science Dream Job\"\n"
      ]
    },
    {
      "cell_type": "code",
      "metadata": {
        "colab": {
          "base_uri": "https://localhost:8080/"
        },
        "id": "O7HqN5PV-cWt",
        "cellView": "form",
        "outputId": "38529ab1-1a9a-4c37-ac2d-1a3d44feec88"
      },
      "source": [
        "#@title Module Presettings\n",
        "import numpy as np\n",
        "import pandas as pd\n",
        "import matplotlib.pyplot as plt\n",
        "import seaborn as sns\n",
        "%matplotlib inline\n",
        "%config InlineBackend.figure_format='retina'\n",
        "#np.random.seed(18989)\n",
        "#Mount google drive\n",
        "from google.colab import drive\n",
        "drive.mount('/content/drive', force_remount=True)\n",
        "\n"
      ],
      "execution_count": 6,
      "outputs": [
        {
          "output_type": "stream",
          "text": [
            "Mounted at /content/drive\n"
          ],
          "name": "stdout"
        }
      ]
    },
    {
      "cell_type": "markdown",
      "metadata": {
        "id": "T8JwNsmxX-Ke"
      },
      "source": [
        "## **Part 2 Discovery**"
      ]
    },
    {
      "cell_type": "markdown",
      "metadata": {
        "id": "GA55b1TL-7sj"
      },
      "source": [
        "### ---- 2 Load the data ----"
      ]
    },
    {
      "cell_type": "code",
      "metadata": {
        "id": "_zuYWpUm-uUp"
      },
      "source": [
        "#load the data into a Pandas dataframe\n",
        "train_feature_df = pd.read_csv('/content/drive/My Drive/EDA_DSDJ/train_features.csv')\n",
        "train_target_df = pd.read_csv('/content/drive/My Drive/EDA_DSDJ/train_salaries.csv')\n",
        "test_feature_df = pd.read_csv('/content/drive/My Drive/EDA_DSDJ/test_features.csv')"
      ],
      "execution_count": 7,
      "outputs": []
    },
    {
      "cell_type": "markdown",
      "metadata": {
        "id": "3X26jir-E87A"
      },
      "source": [
        "#### ---- 2.1 Examine the data ----"
      ]
    },
    {
      "cell_type": "code",
      "metadata": {
        "colab": {
          "base_uri": "https://localhost:8080/",
          "height": 204
        },
        "id": "PWdWKTOh_Do9",
        "outputId": "51450574-37b3-4431-eda3-5b3c88760ec0"
      },
      "source": [
        "#look for duplicate data, invalid data (e.g. salaries <=0), or corrupt data and remove it\n",
        "train_feature_df.head()"
      ],
      "execution_count": 117,
      "outputs": [
        {
          "output_type": "execute_result",
          "data": {
            "text/html": [
              "<div>\n",
              "<style scoped>\n",
              "    .dataframe tbody tr th:only-of-type {\n",
              "        vertical-align: middle;\n",
              "    }\n",
              "\n",
              "    .dataframe tbody tr th {\n",
              "        vertical-align: top;\n",
              "    }\n",
              "\n",
              "    .dataframe thead th {\n",
              "        text-align: right;\n",
              "    }\n",
              "</style>\n",
              "<table border=\"1\" class=\"dataframe\">\n",
              "  <thead>\n",
              "    <tr style=\"text-align: right;\">\n",
              "      <th></th>\n",
              "      <th>jobId</th>\n",
              "      <th>companyId</th>\n",
              "      <th>jobType</th>\n",
              "      <th>degree</th>\n",
              "      <th>major</th>\n",
              "      <th>industry</th>\n",
              "      <th>yearsExperience</th>\n",
              "      <th>milesFromMetropolis</th>\n",
              "    </tr>\n",
              "  </thead>\n",
              "  <tbody>\n",
              "    <tr>\n",
              "      <th>0</th>\n",
              "      <td>JOB1362684407687</td>\n",
              "      <td>COMP37</td>\n",
              "      <td>CFO</td>\n",
              "      <td>MASTERS</td>\n",
              "      <td>MATH</td>\n",
              "      <td>HEALTH</td>\n",
              "      <td>10</td>\n",
              "      <td>83</td>\n",
              "    </tr>\n",
              "    <tr>\n",
              "      <th>1</th>\n",
              "      <td>JOB1362684407688</td>\n",
              "      <td>COMP19</td>\n",
              "      <td>CEO</td>\n",
              "      <td>HIGH_SCHOOL</td>\n",
              "      <td>NONE</td>\n",
              "      <td>WEB</td>\n",
              "      <td>3</td>\n",
              "      <td>73</td>\n",
              "    </tr>\n",
              "    <tr>\n",
              "      <th>2</th>\n",
              "      <td>JOB1362684407689</td>\n",
              "      <td>COMP52</td>\n",
              "      <td>VICE_PRESIDENT</td>\n",
              "      <td>DOCTORAL</td>\n",
              "      <td>PHYSICS</td>\n",
              "      <td>HEALTH</td>\n",
              "      <td>10</td>\n",
              "      <td>38</td>\n",
              "    </tr>\n",
              "    <tr>\n",
              "      <th>3</th>\n",
              "      <td>JOB1362684407690</td>\n",
              "      <td>COMP38</td>\n",
              "      <td>MANAGER</td>\n",
              "      <td>DOCTORAL</td>\n",
              "      <td>CHEMISTRY</td>\n",
              "      <td>AUTO</td>\n",
              "      <td>8</td>\n",
              "      <td>17</td>\n",
              "    </tr>\n",
              "    <tr>\n",
              "      <th>4</th>\n",
              "      <td>JOB1362684407691</td>\n",
              "      <td>COMP7</td>\n",
              "      <td>VICE_PRESIDENT</td>\n",
              "      <td>BACHELORS</td>\n",
              "      <td>PHYSICS</td>\n",
              "      <td>FINANCE</td>\n",
              "      <td>8</td>\n",
              "      <td>16</td>\n",
              "    </tr>\n",
              "  </tbody>\n",
              "</table>\n",
              "</div>"
            ],
            "text/plain": [
              "              jobId companyId  ... yearsExperience milesFromMetropolis\n",
              "0  JOB1362684407687    COMP37  ...              10                  83\n",
              "1  JOB1362684407688    COMP19  ...               3                  73\n",
              "2  JOB1362684407689    COMP52  ...              10                  38\n",
              "3  JOB1362684407690    COMP38  ...               8                  17\n",
              "4  JOB1362684407691     COMP7  ...               8                  16\n",
              "\n",
              "[5 rows x 8 columns]"
            ]
          },
          "metadata": {
            "tags": []
          },
          "execution_count": 117
        }
      ]
    },
    {
      "cell_type": "code",
      "metadata": {
        "colab": {
          "base_uri": "https://localhost:8080/",
          "height": 204
        },
        "id": "iIw6LbVh_3c0",
        "outputId": "a5c09806-2428-48e4-9070-2f6505b5ace0"
      },
      "source": [
        "train_target_df.head()"
      ],
      "execution_count": 118,
      "outputs": [
        {
          "output_type": "execute_result",
          "data": {
            "text/html": [
              "<div>\n",
              "<style scoped>\n",
              "    .dataframe tbody tr th:only-of-type {\n",
              "        vertical-align: middle;\n",
              "    }\n",
              "\n",
              "    .dataframe tbody tr th {\n",
              "        vertical-align: top;\n",
              "    }\n",
              "\n",
              "    .dataframe thead th {\n",
              "        text-align: right;\n",
              "    }\n",
              "</style>\n",
              "<table border=\"1\" class=\"dataframe\">\n",
              "  <thead>\n",
              "    <tr style=\"text-align: right;\">\n",
              "      <th></th>\n",
              "      <th>jobId</th>\n",
              "      <th>salary</th>\n",
              "    </tr>\n",
              "  </thead>\n",
              "  <tbody>\n",
              "    <tr>\n",
              "      <th>0</th>\n",
              "      <td>JOB1362684407687</td>\n",
              "      <td>130</td>\n",
              "    </tr>\n",
              "    <tr>\n",
              "      <th>1</th>\n",
              "      <td>JOB1362684407688</td>\n",
              "      <td>101</td>\n",
              "    </tr>\n",
              "    <tr>\n",
              "      <th>2</th>\n",
              "      <td>JOB1362684407689</td>\n",
              "      <td>137</td>\n",
              "    </tr>\n",
              "    <tr>\n",
              "      <th>3</th>\n",
              "      <td>JOB1362684407690</td>\n",
              "      <td>142</td>\n",
              "    </tr>\n",
              "    <tr>\n",
              "      <th>4</th>\n",
              "      <td>JOB1362684407691</td>\n",
              "      <td>163</td>\n",
              "    </tr>\n",
              "  </tbody>\n",
              "</table>\n",
              "</div>"
            ],
            "text/plain": [
              "              jobId  salary\n",
              "0  JOB1362684407687     130\n",
              "1  JOB1362684407688     101\n",
              "2  JOB1362684407689     137\n",
              "3  JOB1362684407690     142\n",
              "4  JOB1362684407691     163"
            ]
          },
          "metadata": {
            "tags": []
          },
          "execution_count": 118
        }
      ]
    },
    {
      "cell_type": "code",
      "metadata": {
        "colab": {
          "base_uri": "https://localhost:8080/",
          "height": 204
        },
        "id": "ArYVZMzV_6bQ",
        "outputId": "d6159534-cd6c-4080-a89a-b38a01ec03db"
      },
      "source": [
        "test_feature_df.head()"
      ],
      "execution_count": 119,
      "outputs": [
        {
          "output_type": "execute_result",
          "data": {
            "text/html": [
              "<div>\n",
              "<style scoped>\n",
              "    .dataframe tbody tr th:only-of-type {\n",
              "        vertical-align: middle;\n",
              "    }\n",
              "\n",
              "    .dataframe tbody tr th {\n",
              "        vertical-align: top;\n",
              "    }\n",
              "\n",
              "    .dataframe thead th {\n",
              "        text-align: right;\n",
              "    }\n",
              "</style>\n",
              "<table border=\"1\" class=\"dataframe\">\n",
              "  <thead>\n",
              "    <tr style=\"text-align: right;\">\n",
              "      <th></th>\n",
              "      <th>jobId</th>\n",
              "      <th>companyId</th>\n",
              "      <th>jobType</th>\n",
              "      <th>degree</th>\n",
              "      <th>major</th>\n",
              "      <th>industry</th>\n",
              "      <th>yearsExperience</th>\n",
              "      <th>milesFromMetropolis</th>\n",
              "    </tr>\n",
              "  </thead>\n",
              "  <tbody>\n",
              "    <tr>\n",
              "      <th>0</th>\n",
              "      <td>JOB1362685407687</td>\n",
              "      <td>COMP33</td>\n",
              "      <td>MANAGER</td>\n",
              "      <td>HIGH_SCHOOL</td>\n",
              "      <td>NONE</td>\n",
              "      <td>HEALTH</td>\n",
              "      <td>22</td>\n",
              "      <td>73</td>\n",
              "    </tr>\n",
              "    <tr>\n",
              "      <th>1</th>\n",
              "      <td>JOB1362685407688</td>\n",
              "      <td>COMP13</td>\n",
              "      <td>JUNIOR</td>\n",
              "      <td>NONE</td>\n",
              "      <td>NONE</td>\n",
              "      <td>AUTO</td>\n",
              "      <td>20</td>\n",
              "      <td>47</td>\n",
              "    </tr>\n",
              "    <tr>\n",
              "      <th>2</th>\n",
              "      <td>JOB1362685407689</td>\n",
              "      <td>COMP10</td>\n",
              "      <td>CTO</td>\n",
              "      <td>MASTERS</td>\n",
              "      <td>BIOLOGY</td>\n",
              "      <td>HEALTH</td>\n",
              "      <td>17</td>\n",
              "      <td>9</td>\n",
              "    </tr>\n",
              "    <tr>\n",
              "      <th>3</th>\n",
              "      <td>JOB1362685407690</td>\n",
              "      <td>COMP21</td>\n",
              "      <td>MANAGER</td>\n",
              "      <td>HIGH_SCHOOL</td>\n",
              "      <td>NONE</td>\n",
              "      <td>OIL</td>\n",
              "      <td>14</td>\n",
              "      <td>96</td>\n",
              "    </tr>\n",
              "    <tr>\n",
              "      <th>4</th>\n",
              "      <td>JOB1362685407691</td>\n",
              "      <td>COMP36</td>\n",
              "      <td>JUNIOR</td>\n",
              "      <td>DOCTORAL</td>\n",
              "      <td>BIOLOGY</td>\n",
              "      <td>OIL</td>\n",
              "      <td>10</td>\n",
              "      <td>44</td>\n",
              "    </tr>\n",
              "  </tbody>\n",
              "</table>\n",
              "</div>"
            ],
            "text/plain": [
              "              jobId companyId  ... yearsExperience milesFromMetropolis\n",
              "0  JOB1362685407687    COMP33  ...              22                  73\n",
              "1  JOB1362685407688    COMP13  ...              20                  47\n",
              "2  JOB1362685407689    COMP10  ...              17                   9\n",
              "3  JOB1362685407690    COMP21  ...              14                  96\n",
              "4  JOB1362685407691    COMP36  ...              10                  44\n",
              "\n",
              "[5 rows x 8 columns]"
            ]
          },
          "metadata": {
            "tags": []
          },
          "execution_count": 119
        }
      ]
    },
    {
      "cell_type": "markdown",
      "metadata": {
        "id": "_7-Rqkk9Mr8h"
      },
      "source": [
        "#### ---- 2.2 Merge the train features and train target dataset"
      ]
    },
    {
      "cell_type": "code",
      "metadata": {
        "colab": {
          "base_uri": "https://localhost:8080/"
        },
        "id": "W5E9nrBM_213",
        "outputId": "4475a80c-8b33-4d01-db23-3f08831e04c5"
      },
      "source": [
        "train_df = pd.merge(train_feature_df, train_target_df, on='jobId', how=\"left\")\n",
        "del train_feature_df, train_target_df\n",
        "train_df.info()"
      ],
      "execution_count": 8,
      "outputs": [
        {
          "output_type": "stream",
          "text": [
            "<class 'pandas.core.frame.DataFrame'>\n",
            "Int64Index: 1000000 entries, 0 to 999999\n",
            "Data columns (total 9 columns):\n",
            " #   Column               Non-Null Count    Dtype \n",
            "---  ------               --------------    ----- \n",
            " 0   jobId                1000000 non-null  object\n",
            " 1   companyId            1000000 non-null  object\n",
            " 2   jobType              1000000 non-null  object\n",
            " 3   degree               1000000 non-null  object\n",
            " 4   major                1000000 non-null  object\n",
            " 5   industry             1000000 non-null  object\n",
            " 6   yearsExperience      1000000 non-null  int64 \n",
            " 7   milesFromMetropolis  1000000 non-null  int64 \n",
            " 8   salary               1000000 non-null  int64 \n",
            "dtypes: int64(3), object(6)\n",
            "memory usage: 76.3+ MB\n"
          ],
          "name": "stdout"
        }
      ]
    },
    {
      "cell_type": "code",
      "metadata": {
        "colab": {
          "base_uri": "https://localhost:8080/"
        },
        "id": "AXQUN7PvDTTN",
        "outputId": "35c8b5f1-917e-4c69-8676-a3ccc7a37b47"
      },
      "source": [
        "train_df.shape"
      ],
      "execution_count": 9,
      "outputs": [
        {
          "output_type": "execute_result",
          "data": {
            "text/plain": [
              "(1000000, 9)"
            ]
          },
          "metadata": {
            "tags": []
          },
          "execution_count": 9
        }
      ]
    },
    {
      "cell_type": "code",
      "metadata": {
        "colab": {
          "base_uri": "https://localhost:8080/",
          "height": 390
        },
        "id": "tduviwiNjj5e",
        "outputId": "49034fa5-c4b6-42b1-a8e9-2d7338b18724"
      },
      "source": [
        "train_df.describe(include='all')"
      ],
      "execution_count": 148,
      "outputs": [
        {
          "output_type": "execute_result",
          "data": {
            "text/html": [
              "<div>\n",
              "<style scoped>\n",
              "    .dataframe tbody tr th:only-of-type {\n",
              "        vertical-align: middle;\n",
              "    }\n",
              "\n",
              "    .dataframe tbody tr th {\n",
              "        vertical-align: top;\n",
              "    }\n",
              "\n",
              "    .dataframe thead th {\n",
              "        text-align: right;\n",
              "    }\n",
              "</style>\n",
              "<table border=\"1\" class=\"dataframe\">\n",
              "  <thead>\n",
              "    <tr style=\"text-align: right;\">\n",
              "      <th></th>\n",
              "      <th>jobId</th>\n",
              "      <th>companyId</th>\n",
              "      <th>jobType</th>\n",
              "      <th>degree</th>\n",
              "      <th>major</th>\n",
              "      <th>industry</th>\n",
              "      <th>yearsExperience</th>\n",
              "      <th>milesFromMetropolis</th>\n",
              "      <th>salary</th>\n",
              "    </tr>\n",
              "  </thead>\n",
              "  <tbody>\n",
              "    <tr>\n",
              "      <th>count</th>\n",
              "      <td>1000000</td>\n",
              "      <td>1000000</td>\n",
              "      <td>1000000</td>\n",
              "      <td>1000000</td>\n",
              "      <td>1000000</td>\n",
              "      <td>1000000</td>\n",
              "      <td>1000000.000000</td>\n",
              "      <td>1000000.000000</td>\n",
              "      <td>1000000.000000</td>\n",
              "    </tr>\n",
              "    <tr>\n",
              "      <th>unique</th>\n",
              "      <td>1000000</td>\n",
              "      <td>63</td>\n",
              "      <td>8</td>\n",
              "      <td>5</td>\n",
              "      <td>9</td>\n",
              "      <td>7</td>\n",
              "      <td>NaN</td>\n",
              "      <td>NaN</td>\n",
              "      <td>NaN</td>\n",
              "    </tr>\n",
              "    <tr>\n",
              "      <th>top</th>\n",
              "      <td>JOB1362684742491</td>\n",
              "      <td>COMP39</td>\n",
              "      <td>SENIOR</td>\n",
              "      <td>HIGH_SCHOOL</td>\n",
              "      <td>NONE</td>\n",
              "      <td>WEB</td>\n",
              "      <td>NaN</td>\n",
              "      <td>NaN</td>\n",
              "      <td>NaN</td>\n",
              "    </tr>\n",
              "    <tr>\n",
              "      <th>freq</th>\n",
              "      <td>1</td>\n",
              "      <td>16193</td>\n",
              "      <td>125886</td>\n",
              "      <td>236976</td>\n",
              "      <td>532355</td>\n",
              "      <td>143206</td>\n",
              "      <td>NaN</td>\n",
              "      <td>NaN</td>\n",
              "      <td>NaN</td>\n",
              "    </tr>\n",
              "    <tr>\n",
              "      <th>mean</th>\n",
              "      <td>NaN</td>\n",
              "      <td>NaN</td>\n",
              "      <td>NaN</td>\n",
              "      <td>NaN</td>\n",
              "      <td>NaN</td>\n",
              "      <td>NaN</td>\n",
              "      <td>11.992386</td>\n",
              "      <td>49.529260</td>\n",
              "      <td>116.061818</td>\n",
              "    </tr>\n",
              "    <tr>\n",
              "      <th>std</th>\n",
              "      <td>NaN</td>\n",
              "      <td>NaN</td>\n",
              "      <td>NaN</td>\n",
              "      <td>NaN</td>\n",
              "      <td>NaN</td>\n",
              "      <td>NaN</td>\n",
              "      <td>7.212391</td>\n",
              "      <td>28.877733</td>\n",
              "      <td>38.717936</td>\n",
              "    </tr>\n",
              "    <tr>\n",
              "      <th>min</th>\n",
              "      <td>NaN</td>\n",
              "      <td>NaN</td>\n",
              "      <td>NaN</td>\n",
              "      <td>NaN</td>\n",
              "      <td>NaN</td>\n",
              "      <td>NaN</td>\n",
              "      <td>0.000000</td>\n",
              "      <td>0.000000</td>\n",
              "      <td>0.000000</td>\n",
              "    </tr>\n",
              "    <tr>\n",
              "      <th>25%</th>\n",
              "      <td>NaN</td>\n",
              "      <td>NaN</td>\n",
              "      <td>NaN</td>\n",
              "      <td>NaN</td>\n",
              "      <td>NaN</td>\n",
              "      <td>NaN</td>\n",
              "      <td>6.000000</td>\n",
              "      <td>25.000000</td>\n",
              "      <td>88.000000</td>\n",
              "    </tr>\n",
              "    <tr>\n",
              "      <th>50%</th>\n",
              "      <td>NaN</td>\n",
              "      <td>NaN</td>\n",
              "      <td>NaN</td>\n",
              "      <td>NaN</td>\n",
              "      <td>NaN</td>\n",
              "      <td>NaN</td>\n",
              "      <td>12.000000</td>\n",
              "      <td>50.000000</td>\n",
              "      <td>114.000000</td>\n",
              "    </tr>\n",
              "    <tr>\n",
              "      <th>75%</th>\n",
              "      <td>NaN</td>\n",
              "      <td>NaN</td>\n",
              "      <td>NaN</td>\n",
              "      <td>NaN</td>\n",
              "      <td>NaN</td>\n",
              "      <td>NaN</td>\n",
              "      <td>18.000000</td>\n",
              "      <td>75.000000</td>\n",
              "      <td>141.000000</td>\n",
              "    </tr>\n",
              "    <tr>\n",
              "      <th>max</th>\n",
              "      <td>NaN</td>\n",
              "      <td>NaN</td>\n",
              "      <td>NaN</td>\n",
              "      <td>NaN</td>\n",
              "      <td>NaN</td>\n",
              "      <td>NaN</td>\n",
              "      <td>24.000000</td>\n",
              "      <td>99.000000</td>\n",
              "      <td>301.000000</td>\n",
              "    </tr>\n",
              "  </tbody>\n",
              "</table>\n",
              "</div>"
            ],
            "text/plain": [
              "                   jobId companyId  ... milesFromMetropolis          salary\n",
              "count            1000000   1000000  ...      1000000.000000  1000000.000000\n",
              "unique           1000000        63  ...                 NaN             NaN\n",
              "top     JOB1362684742491    COMP39  ...                 NaN             NaN\n",
              "freq                   1     16193  ...                 NaN             NaN\n",
              "mean                 NaN       NaN  ...           49.529260      116.061818\n",
              "std                  NaN       NaN  ...           28.877733       38.717936\n",
              "min                  NaN       NaN  ...            0.000000        0.000000\n",
              "25%                  NaN       NaN  ...           25.000000       88.000000\n",
              "50%                  NaN       NaN  ...           50.000000      114.000000\n",
              "75%                  NaN       NaN  ...           75.000000      141.000000\n",
              "max                  NaN       NaN  ...           99.000000      301.000000\n",
              "\n",
              "[11 rows x 9 columns]"
            ]
          },
          "metadata": {
            "tags": []
          },
          "execution_count": 148
        }
      ]
    },
    {
      "cell_type": "markdown",
      "metadata": {
        "id": "Eip03fLW4kG7"
      },
      "source": [
        "### ---- 3 Clean missing and duplicated data"
      ]
    },
    {
      "cell_type": "code",
      "metadata": {
        "colab": {
          "base_uri": "https://localhost:8080/"
        },
        "id": "H-1j1XB9T4WZ",
        "outputId": "22f57f5f-ef8a-4546-ba39-aa464ff92eb2"
      },
      "source": [
        "# check missing data and duplicate values in dataframe\n",
        "train_df.duplicated().sum()"
      ],
      "execution_count": 149,
      "outputs": [
        {
          "output_type": "execute_result",
          "data": {
            "text/plain": [
              "0"
            ]
          },
          "metadata": {
            "tags": []
          },
          "execution_count": 149
        }
      ]
    },
    {
      "cell_type": "code",
      "metadata": {
        "colab": {
          "base_uri": "https://localhost:8080/"
        },
        "id": "lBUksxEvUG-i",
        "outputId": "0ae99b18-fed1-4f9d-f79f-534de25a2fa6"
      },
      "source": [
        "train_df.isnull().sum()"
      ],
      "execution_count": 150,
      "outputs": [
        {
          "output_type": "execute_result",
          "data": {
            "text/plain": [
              "jobId                  0\n",
              "companyId              0\n",
              "jobType                0\n",
              "degree                 0\n",
              "major                  0\n",
              "industry               0\n",
              "yearsExperience        0\n",
              "milesFromMetropolis    0\n",
              "salary                 0\n",
              "dtype: int64"
            ]
          },
          "metadata": {
            "tags": []
          },
          "execution_count": 150
        }
      ]
    },
    {
      "cell_type": "markdown",
      "metadata": {
        "id": "7lHOsmlP5CMu"
      },
      "source": [
        "#### ---- 3.1 Identify outliers ----"
      ]
    },
    {
      "cell_type": "code",
      "metadata": {
        "colab": {
          "base_uri": "https://localhost:8080/",
          "height": 597
        },
        "id": "piu9-QWFC3Bo",
        "outputId": "c05179cb-ea3c-4985-baec-01261b3a4149"
      },
      "source": [
        "#Visualize Salary Distribution\n",
        "\n",
        "sns.set(style =\"whitegrid\")\n",
        "plt.figure(figsize = (13, 6))\n",
        "ax1 = plt.subplot(1,2,1)\n",
        "sns.boxplot(train_df.salary)\n",
        "\n",
        "ax2 = plt.subplot(1,2,2)\n",
        "sns.histplot(train_df.salary, bins=20)\n",
        "plt.show()"
      ],
      "execution_count": 153,
      "outputs": [
        {
          "output_type": "stream",
          "text": [
            "/usr/local/lib/python3.6/dist-packages/seaborn/_decorators.py:43: FutureWarning: Pass the following variable as a keyword arg: x. From version 0.12, the only valid positional argument will be `data`, and passing other arguments without an explicit keyword will result in an error or misinterpretation.\n",
            "  FutureWarning\n"
          ],
          "name": "stderr"
        },
        {
          "output_type": "display_data",
          "data": {
            "image/png": "[encoded data removed]",
            "text/plain": [
              "<Figure size 1300x600 with 2 Axes>"
            ]
          },
          "metadata": {
            "tags": [],
            "image/png": {
              "width": 1027,
              "height": 526
            }
          }
        }
      ]
    },
    {
      "cell_type": "markdown",
      "metadata": {
        "id": "l67glBkJFjf3"
      },
      "source": [
        "We notice there are quite some outliers below and above upper and lower bounds of the range"
      ]
    },
    {
      "cell_type": "code",
      "metadata": {
        "colab": {
          "base_uri": "https://localhost:8080/"
        },
        "id": "jDZHUCRlDtiy",
        "outputId": "d4dfb665-ab8d-41c2-b88e-6cfc9a7755d5"
      },
      "source": [
        "#Examine Outliers with IQR\n",
        "def outlier(df):\n",
        "  stat = df.describe()\n",
        "  iqr = stat['75%'] - stat['25%']\n",
        "  upper = stat['75%'] + 1.5 * iqr\n",
        "  lower = stat['25%'] - 1.5 * iqr\n",
        "  print('The upper and lower bounds for suspected outliers are {} and {}.'.format(upper, lower))\n",
        "\n",
        "outlier(train_df.salary)"
      ],
      "execution_count": 10,
      "outputs": [
        {
          "output_type": "stream",
          "text": [
            "The upper and lower bounds for suspected outliers are 220.5 and 8.5.\n"
          ],
          "name": "stdout"
        }
      ]
    },
    {
      "cell_type": "code",
      "metadata": {
        "colab": {
          "base_uri": "https://localhost:8080/",
          "height": 204
        },
        "id": "5LcGRDKpDwoO",
        "outputId": "7a620667-eb78-4ca4-e6ad-ba4527ad7511"
      },
      "source": [
        "train_df[(train_df.salary < 8.5)]"
      ],
      "execution_count": 11,
      "outputs": [
        {
          "output_type": "execute_result",
          "data": {
            "text/html": [
              "<div>\n",
              "<style scoped>\n",
              "    .dataframe tbody tr th:only-of-type {\n",
              "        vertical-align: middle;\n",
              "    }\n",
              "\n",
              "    .dataframe tbody tr th {\n",
              "        vertical-align: top;\n",
              "    }\n",
              "\n",
              "    .dataframe thead th {\n",
              "        text-align: right;\n",
              "    }\n",
              "</style>\n",
              "<table border=\"1\" class=\"dataframe\">\n",
              "  <thead>\n",
              "    <tr style=\"text-align: right;\">\n",
              "      <th></th>\n",
              "      <th>jobId</th>\n",
              "      <th>companyId</th>\n",
              "      <th>jobType</th>\n",
              "      <th>degree</th>\n",
              "      <th>major</th>\n",
              "      <th>industry</th>\n",
              "      <th>yearsExperience</th>\n",
              "      <th>milesFromMetropolis</th>\n",
              "      <th>salary</th>\n",
              "    </tr>\n",
              "  </thead>\n",
              "  <tbody>\n",
              "    <tr>\n",
              "      <th>30559</th>\n",
              "      <td>JOB1362684438246</td>\n",
              "      <td>COMP44</td>\n",
              "      <td>JUNIOR</td>\n",
              "      <td>DOCTORAL</td>\n",
              "      <td>MATH</td>\n",
              "      <td>AUTO</td>\n",
              "      <td>11</td>\n",
              "      <td>7</td>\n",
              "      <td>0</td>\n",
              "    </tr>\n",
              "    <tr>\n",
              "      <th>495984</th>\n",
              "      <td>JOB1362684903671</td>\n",
              "      <td>COMP34</td>\n",
              "      <td>JUNIOR</td>\n",
              "      <td>NONE</td>\n",
              "      <td>NONE</td>\n",
              "      <td>OIL</td>\n",
              "      <td>1</td>\n",
              "      <td>25</td>\n",
              "      <td>0</td>\n",
              "    </tr>\n",
              "    <tr>\n",
              "      <th>652076</th>\n",
              "      <td>JOB1362685059763</td>\n",
              "      <td>COMP25</td>\n",
              "      <td>CTO</td>\n",
              "      <td>HIGH_SCHOOL</td>\n",
              "      <td>NONE</td>\n",
              "      <td>AUTO</td>\n",
              "      <td>6</td>\n",
              "      <td>60</td>\n",
              "      <td>0</td>\n",
              "    </tr>\n",
              "    <tr>\n",
              "      <th>816129</th>\n",
              "      <td>JOB1362685223816</td>\n",
              "      <td>COMP42</td>\n",
              "      <td>MANAGER</td>\n",
              "      <td>DOCTORAL</td>\n",
              "      <td>ENGINEERING</td>\n",
              "      <td>FINANCE</td>\n",
              "      <td>18</td>\n",
              "      <td>6</td>\n",
              "      <td>0</td>\n",
              "    </tr>\n",
              "    <tr>\n",
              "      <th>828156</th>\n",
              "      <td>JOB1362685235843</td>\n",
              "      <td>COMP40</td>\n",
              "      <td>VICE_PRESIDENT</td>\n",
              "      <td>MASTERS</td>\n",
              "      <td>ENGINEERING</td>\n",
              "      <td>WEB</td>\n",
              "      <td>3</td>\n",
              "      <td>29</td>\n",
              "      <td>0</td>\n",
              "    </tr>\n",
              "  </tbody>\n",
              "</table>\n",
              "</div>"
            ],
            "text/plain": [
              "                   jobId companyId  ... milesFromMetropolis salary\n",
              "30559   JOB1362684438246    COMP44  ...                   7      0\n",
              "495984  JOB1362684903671    COMP34  ...                  25      0\n",
              "652076  JOB1362685059763    COMP25  ...                  60      0\n",
              "816129  JOB1362685223816    COMP42  ...                   6      0\n",
              "828156  JOB1362685235843    COMP40  ...                  29      0\n",
              "\n",
              "[5 rows x 9 columns]"
            ]
          },
          "metadata": {
            "tags": []
          },
          "execution_count": 11
        }
      ]
    },
    {
      "cell_type": "markdown",
      "metadata": {
        "id": "ymOWAbTID-K2"
      },
      "source": [
        "Low-end outliers do look like corrupted data, as those are not likely to be volunteer work."
      ]
    },
    {
      "cell_type": "code",
      "metadata": {
        "colab": {
          "base_uri": "https://localhost:8080/"
        },
        "id": "5Lvk0_dBGSLb",
        "outputId": "273ba5f4-3892-4222-e658-890b6b041c1a"
      },
      "source": [
        "# remove the low-end outliers\n",
        "train_df = train_df[train_df.salary > 8.5]\n",
        "train_df.shape"
      ],
      "execution_count": 12,
      "outputs": [
        {
          "output_type": "execute_result",
          "data": {
            "text/plain": [
              "(999995, 9)"
            ]
          },
          "metadata": {
            "tags": []
          },
          "execution_count": 12
        }
      ]
    },
    {
      "cell_type": "code",
      "metadata": {
        "colab": {
          "base_uri": "https://localhost:8080/"
        },
        "id": "NANUwHjpD1XU",
        "outputId": "d5e02ccb-1469-4b66-a3a1-f50c8653d97d"
      },
      "source": [
        "train_df.loc[(train_df.salary > 220.5),'jobType'].value_counts()"
      ],
      "execution_count": 13,
      "outputs": [
        {
          "output_type": "execute_result",
          "data": {
            "text/plain": [
              "CEO               3227\n",
              "CFO               1496\n",
              "CTO               1488\n",
              "VICE_PRESIDENT     603\n",
              "MANAGER            217\n",
              "SENIOR              66\n",
              "JUNIOR              20\n",
              "Name: jobType, dtype: int64"
            ]
          },
          "metadata": {
            "tags": []
          },
          "execution_count": 13
        }
      ]
    },
    {
      "cell_type": "markdown",
      "metadata": {
        "id": "tGRPo3oCECM0"
      },
      "source": [
        "Data in the high end appears to be more reasonable with the job type. The 'Junior' type appeals to be more related to consulation. We will keep those data."
      ]
    },
    {
      "cell_type": "code",
      "metadata": {
        "colab": {
          "base_uri": "https://localhost:8080/",
          "height": 514
        },
        "id": "gVSYxK5lEhhK",
        "outputId": "1f1020b3-2606-41cb-81f5-295ac3e8aacb"
      },
      "source": [
        "train_df[(train_df.salary>220.5) & (train_df.jobType==\"JUNIOR\")].head(15)"
      ],
      "execution_count": 123,
      "outputs": [
        {
          "output_type": "execute_result",
          "data": {
            "text/html": [
              "<div>\n",
              "<style scoped>\n",
              "    .dataframe tbody tr th:only-of-type {\n",
              "        vertical-align: middle;\n",
              "    }\n",
              "\n",
              "    .dataframe tbody tr th {\n",
              "        vertical-align: top;\n",
              "    }\n",
              "\n",
              "    .dataframe thead th {\n",
              "        text-align: right;\n",
              "    }\n",
              "</style>\n",
              "<table border=\"1\" class=\"dataframe\">\n",
              "  <thead>\n",
              "    <tr style=\"text-align: right;\">\n",
              "      <th></th>\n",
              "      <th>jobId</th>\n",
              "      <th>companyId</th>\n",
              "      <th>jobType</th>\n",
              "      <th>degree</th>\n",
              "      <th>major</th>\n",
              "      <th>industry</th>\n",
              "      <th>yearsExperience</th>\n",
              "      <th>milesFromMetropolis</th>\n",
              "      <th>salary</th>\n",
              "    </tr>\n",
              "  </thead>\n",
              "  <tbody>\n",
              "    <tr>\n",
              "      <th>1222</th>\n",
              "      <td>JOB1362684408909</td>\n",
              "      <td>COMP40</td>\n",
              "      <td>JUNIOR</td>\n",
              "      <td>MASTERS</td>\n",
              "      <td>COMPSCI</td>\n",
              "      <td>OIL</td>\n",
              "      <td>24</td>\n",
              "      <td>5</td>\n",
              "      <td>225</td>\n",
              "    </tr>\n",
              "    <tr>\n",
              "      <th>27710</th>\n",
              "      <td>JOB1362684435397</td>\n",
              "      <td>COMP21</td>\n",
              "      <td>JUNIOR</td>\n",
              "      <td>DOCTORAL</td>\n",
              "      <td>ENGINEERING</td>\n",
              "      <td>OIL</td>\n",
              "      <td>24</td>\n",
              "      <td>3</td>\n",
              "      <td>246</td>\n",
              "    </tr>\n",
              "    <tr>\n",
              "      <th>31355</th>\n",
              "      <td>JOB1362684439042</td>\n",
              "      <td>COMP45</td>\n",
              "      <td>JUNIOR</td>\n",
              "      <td>DOCTORAL</td>\n",
              "      <td>COMPSCI</td>\n",
              "      <td>FINANCE</td>\n",
              "      <td>24</td>\n",
              "      <td>0</td>\n",
              "      <td>225</td>\n",
              "    </tr>\n",
              "    <tr>\n",
              "      <th>100042</th>\n",
              "      <td>JOB1362684507729</td>\n",
              "      <td>COMP17</td>\n",
              "      <td>JUNIOR</td>\n",
              "      <td>DOCTORAL</td>\n",
              "      <td>BUSINESS</td>\n",
              "      <td>FINANCE</td>\n",
              "      <td>23</td>\n",
              "      <td>8</td>\n",
              "      <td>248</td>\n",
              "    </tr>\n",
              "    <tr>\n",
              "      <th>160333</th>\n",
              "      <td>JOB1362684568020</td>\n",
              "      <td>COMP18</td>\n",
              "      <td>JUNIOR</td>\n",
              "      <td>DOCTORAL</td>\n",
              "      <td>BUSINESS</td>\n",
              "      <td>FINANCE</td>\n",
              "      <td>22</td>\n",
              "      <td>3</td>\n",
              "      <td>223</td>\n",
              "    </tr>\n",
              "    <tr>\n",
              "      <th>189582</th>\n",
              "      <td>JOB1362684597269</td>\n",
              "      <td>COMP32</td>\n",
              "      <td>JUNIOR</td>\n",
              "      <td>DOCTORAL</td>\n",
              "      <td>BUSINESS</td>\n",
              "      <td>OIL</td>\n",
              "      <td>24</td>\n",
              "      <td>11</td>\n",
              "      <td>221</td>\n",
              "    </tr>\n",
              "    <tr>\n",
              "      <th>214606</th>\n",
              "      <td>JOB1362684622293</td>\n",
              "      <td>COMP47</td>\n",
              "      <td>JUNIOR</td>\n",
              "      <td>MASTERS</td>\n",
              "      <td>BUSINESS</td>\n",
              "      <td>FINANCE</td>\n",
              "      <td>22</td>\n",
              "      <td>4</td>\n",
              "      <td>222</td>\n",
              "    </tr>\n",
              "    <tr>\n",
              "      <th>303778</th>\n",
              "      <td>JOB1362684711465</td>\n",
              "      <td>COMP51</td>\n",
              "      <td>JUNIOR</td>\n",
              "      <td>MASTERS</td>\n",
              "      <td>ENGINEERING</td>\n",
              "      <td>WEB</td>\n",
              "      <td>24</td>\n",
              "      <td>2</td>\n",
              "      <td>226</td>\n",
              "    </tr>\n",
              "    <tr>\n",
              "      <th>348354</th>\n",
              "      <td>JOB1362684756041</td>\n",
              "      <td>COMP56</td>\n",
              "      <td>JUNIOR</td>\n",
              "      <td>DOCTORAL</td>\n",
              "      <td>ENGINEERING</td>\n",
              "      <td>OIL</td>\n",
              "      <td>23</td>\n",
              "      <td>25</td>\n",
              "      <td>226</td>\n",
              "    </tr>\n",
              "    <tr>\n",
              "      <th>427593</th>\n",
              "      <td>JOB1362684835280</td>\n",
              "      <td>COMP54</td>\n",
              "      <td>JUNIOR</td>\n",
              "      <td>DOCTORAL</td>\n",
              "      <td>ENGINEERING</td>\n",
              "      <td>FINANCE</td>\n",
              "      <td>23</td>\n",
              "      <td>3</td>\n",
              "      <td>221</td>\n",
              "    </tr>\n",
              "    <tr>\n",
              "      <th>500739</th>\n",
              "      <td>JOB1362684908426</td>\n",
              "      <td>COMP40</td>\n",
              "      <td>JUNIOR</td>\n",
              "      <td>DOCTORAL</td>\n",
              "      <td>ENGINEERING</td>\n",
              "      <td>OIL</td>\n",
              "      <td>21</td>\n",
              "      <td>0</td>\n",
              "      <td>227</td>\n",
              "    </tr>\n",
              "    <tr>\n",
              "      <th>627534</th>\n",
              "      <td>JOB1362685035221</td>\n",
              "      <td>COMP5</td>\n",
              "      <td>JUNIOR</td>\n",
              "      <td>DOCTORAL</td>\n",
              "      <td>ENGINEERING</td>\n",
              "      <td>OIL</td>\n",
              "      <td>24</td>\n",
              "      <td>29</td>\n",
              "      <td>230</td>\n",
              "    </tr>\n",
              "    <tr>\n",
              "      <th>645555</th>\n",
              "      <td>JOB1362685053242</td>\n",
              "      <td>COMP36</td>\n",
              "      <td>JUNIOR</td>\n",
              "      <td>DOCTORAL</td>\n",
              "      <td>BUSINESS</td>\n",
              "      <td>FINANCE</td>\n",
              "      <td>24</td>\n",
              "      <td>1</td>\n",
              "      <td>225</td>\n",
              "    </tr>\n",
              "    <tr>\n",
              "      <th>656572</th>\n",
              "      <td>JOB1362685064259</td>\n",
              "      <td>COMP28</td>\n",
              "      <td>JUNIOR</td>\n",
              "      <td>DOCTORAL</td>\n",
              "      <td>BUSINESS</td>\n",
              "      <td>OIL</td>\n",
              "      <td>22</td>\n",
              "      <td>3</td>\n",
              "      <td>222</td>\n",
              "    </tr>\n",
              "    <tr>\n",
              "      <th>685775</th>\n",
              "      <td>JOB1362685093462</td>\n",
              "      <td>COMP38</td>\n",
              "      <td>JUNIOR</td>\n",
              "      <td>BACHELORS</td>\n",
              "      <td>ENGINEERING</td>\n",
              "      <td>OIL</td>\n",
              "      <td>24</td>\n",
              "      <td>13</td>\n",
              "      <td>225</td>\n",
              "    </tr>\n",
              "  </tbody>\n",
              "</table>\n",
              "</div>"
            ],
            "text/plain": [
              "                   jobId companyId  ... milesFromMetropolis salary\n",
              "1222    JOB1362684408909    COMP40  ...                   5    225\n",
              "27710   JOB1362684435397    COMP21  ...                   3    246\n",
              "31355   JOB1362684439042    COMP45  ...                   0    225\n",
              "100042  JOB1362684507729    COMP17  ...                   8    248\n",
              "160333  JOB1362684568020    COMP18  ...                   3    223\n",
              "189582  JOB1362684597269    COMP32  ...                  11    221\n",
              "214606  JOB1362684622293    COMP47  ...                   4    222\n",
              "303778  JOB1362684711465    COMP51  ...                   2    226\n",
              "348354  JOB1362684756041    COMP56  ...                  25    226\n",
              "427593  JOB1362684835280    COMP54  ...                   3    221\n",
              "500739  JOB1362684908426    COMP40  ...                   0    227\n",
              "627534  JOB1362685035221     COMP5  ...                  29    230\n",
              "645555  JOB1362685053242    COMP36  ...                   1    225\n",
              "656572  JOB1362685064259    COMP28  ...                   3    222\n",
              "685775  JOB1362685093462    COMP38  ...                  13    225\n",
              "\n",
              "[15 rows x 9 columns]"
            ]
          },
          "metadata": {
            "tags": []
          },
          "execution_count": 123
        }
      ]
    },
    {
      "cell_type": "markdown",
      "metadata": {
        "id": "4hz3a6K04T4Z"
      },
      "source": [
        "### ---- 4 Explore the data (EDA) ----"
      ]
    },
    {
      "cell_type": "code",
      "metadata": {
        "id": "r2-tFLsDV6hR"
      },
      "source": [
        "# use sweetviz to visualize the correlation among features\n",
        "!pip install sweetviz"
      ],
      "execution_count": null,
      "outputs": []
    },
    {
      "cell_type": "code",
      "metadata": {
        "colab": {
          "base_uri": "https://localhost:8080/",
          "height": 66,
          "referenced_widgets": [
            "851bda9b0d8740e289a543e86df8834b",
            "8ef985ba996442369a7a8cc173315d44",
            "603cf6b3c5db4acca192b1bf65225c9a",
            "4edc05ec9f2b481b89b9e3f4bdc642ec",
            "787599e6b09a435a90cda6b98271b056",
            "01fc2ddd705743fbb1d94060c8f712fc",
            "c95e3beaefbb4cef85b7dd22b9091231",
            "fd92ac694b5140c0aef87795b41ca8d3",
            "ac16e111bed84957a62437c83d5d413d",
            "645a7fc1ec7745efa324262405331b7c",
            "154b41a5d1224aa68331136a157c986b"
          ]
        },
        "id": "FYE9BcE6__mB",
        "outputId": "e5a57ff9-7311-46c8-81d1-8d2afc859399"
      },
      "source": [
        "import sweetviz as sv\n",
        "report = sv.analyze(train_df)\n",
        "report.show_html('/content/drive/My Drive/EDA_DSDJ/report.html', open_browser=False, layout='vertical')"
      ],
      "execution_count": 19,
      "outputs": [
        {
          "output_type": "display_data",
          "data": {
            "application/vnd.jupyter.widget-view+json": {
              "model_id": "851bda9b0d8740e289a543e86df8834b",
              "version_minor": 0,
              "version_major": 2
            },
            "text/plain": [
              "                                             |          | [  0%]   00:00 -> (? left)"
            ]
          },
          "metadata": {
            "tags": []
          }
        },
        {
          "output_type": "stream",
          "text": [
            "Report /content/drive/My Drive/EDA_DSDJ/report.html was generated.\n"
          ],
          "name": "stdout"
        }
      ]
    },
    {
      "cell_type": "code",
      "metadata": {
        "id": "9QTPsFL_l000"
      },
      "source": [
        "from IPython.display import HTML\n",
        "HTML('/content/drive/My Drive/EDA_DSDJ/report.html')"
      ],
      "execution_count": null,
      "outputs": []
    },
    {
      "cell_type": "markdown",
      "metadata": {
        "id": "AbU5mcg4B4ho"
      },
      "source": [
        "From the association table, we found that Salary has a strong negative correlation with distance from the metro but a strong positive correlation with years of experience."
      ]
    },
    {
      "cell_type": "code",
      "metadata": {
        "id": "K-8msCANjfTS"
      },
      "source": [
        "#define a function to plot both the numeric and categorical features in the dataset \n",
        "def feature_plot(df, col):\n",
        "    #state the plot size \n",
        "    plt.figure(figsize = (8, 6))\n",
        "       \n",
        "    if df[col].dtype == 'int64':\n",
        "        mean = df.groupby(col)['salary'].mean()\n",
        "        mean.plot()\n",
        "        \n",
        "    else:\n",
        "        #if column is not numeric then plot the following:\n",
        "\n",
        "        sns.boxplot(x = col, y = 'salary', data=df)\n",
        "        \n",
        "    #set the labels on the axis    \n",
        "    plt.xticks(rotation = 45)\n",
        "    plt.ylabel('salary')\n",
        "    plt.show()"
      ],
      "execution_count": 14,
      "outputs": []
    },
    {
      "cell_type": "markdown",
      "metadata": {
        "id": "TZ_tgnQn_3Oz"
      },
      "source": [
        "#### ---- 4.1 Visualize the correlations between the Features and Target"
      ]
    },
    {
      "cell_type": "code",
      "metadata": {
        "colab": {
          "base_uri": "https://localhost:8080/",
          "height": 444
        },
        "id": "GGSw4QWbw6lj",
        "outputId": "8d3c5122-3f47-404d-e63c-ead7700c9e5b"
      },
      "source": [
        "feature_plot(train_df.sort_values('salary',ascending = True), 'jobType')"
      ],
      "execution_count": 15,
      "outputs": [
        {
          "output_type": "display_data",
          "data": {
            "image/png": "[encoded data removed]",
            "text/plain": [
              "<Figure size 576x432 with 1 Axes>"
            ]
          },
          "metadata": {
            "tags": [],
            "image/png": {
              "width": 500,
              "height": 427
            },
            "needs_background": "light"
          }
        }
      ]
    },
    {
      "cell_type": "code",
      "metadata": {
        "colab": {
          "base_uri": "https://localhost:8080/",
          "height": 434
        },
        "id": "uD0KS3BzAKaE",
        "outputId": "ac1d543c-cdb7-4acf-a238-da04d5a59122"
      },
      "source": [
        "feature_plot(train_df.sort_values('salary',ascending = True), 'major')"
      ],
      "execution_count": 16,
      "outputs": [
        {
          "output_type": "display_data",
          "data": {
            "image/png": "[encoded data removed]",
            "text/plain": [
              "<Figure size 576x432 with 1 Axes>"
            ]
          },
          "metadata": {
            "tags": [],
            "image/png": {
              "width": 500,
              "height": 417
            },
            "needs_background": "light"
          }
        }
      ]
    },
    {
      "cell_type": "code",
      "metadata": {
        "colab": {
          "base_uri": "https://localhost:8080/",
          "height": 436
        },
        "id": "9MqZzcwwAPoa",
        "outputId": "86f2dffd-6e8b-4e46-8f02-3652ad7f8500"
      },
      "source": [
        "feature_plot(train_df.sort_values('salary',ascending = True), 'degree')"
      ],
      "execution_count": 17,
      "outputs": [
        {
          "output_type": "display_data",
          "data": {
            "image/png": "[encoded data removed]",
            "text/plain": [
              "<Figure size 576x432 with 1 Axes>"
            ]
          },
          "metadata": {
            "tags": [],
            "image/png": {
              "width": 500,
              "height": 419
            },
            "needs_background": "light"
          }
        }
      ]
    },
    {
      "cell_type": "code",
      "metadata": {
        "colab": {
          "base_uri": "https://localhost:8080/",
          "height": 426
        },
        "id": "N6vRJpCnAdKh",
        "outputId": "4761a4cb-9852-47cf-c66c-8d370ebae006"
      },
      "source": [
        "feature_plot(train_df.sort_values('salary',ascending = True), 'industry')"
      ],
      "execution_count": 18,
      "outputs": [
        {
          "output_type": "display_data",
          "data": {
            "image/png": "[encoded data removed]",
            "text/plain": [
              "<Figure size 576x432 with 1 Axes>"
            ]
          },
          "metadata": {
            "tags": [],
            "image/png": {
              "width": 500,
              "height": 409
            },
            "needs_background": "light"
          }
        }
      ]
    },
    {
      "cell_type": "code",
      "metadata": {
        "colab": {
          "base_uri": "https://localhost:8080/",
          "height": 774
        },
        "id": "-1k0ttX-Ae2v",
        "outputId": "1300ec7e-b78f-47c2-92a3-eb717c3ce04f"
      },
      "source": [
        "feature_plot(train_df.sort_values('salary',ascending = True), 'yearsExperience')\n",
        "feature_plot(train_df.sort_values('salary',ascending = True), 'milesFromMetropolis')"
      ],
      "execution_count": 19,
      "outputs": [
        {
          "output_type": "display_data",
          "data": {
            "image/png": "[encoded data removed]",
            "text/plain": [
              "<Figure size 576x432 with 1 Axes>"
            ]
          },
          "metadata": {
            "tags": [],
            "image/png": {
              "width": 505,
              "height": 376
            },
            "needs_background": "light"
          }
        },
        {
          "output_type": "display_data",
          "data": {
            "image/png": "[encoded data removed]",
            "text/plain": [
              "<Figure size 576x432 with 1 Axes>"
            ]
          },
          "metadata": {
            "tags": [],
            "image/png": {
              "width": 500,
              "height": 381
            },
            "needs_background": "light"
          }
        }
      ]
    },
    {
      "cell_type": "markdown",
      "metadata": {
        "id": "2z1FBHVwR_53"
      },
      "source": [
        "The plots are aligned with the findings in the correlation table"
      ]
    },
    {
      "cell_type": "markdown",
      "metadata": {
        "id": "NhxCvsh0To7U"
      },
      "source": [
        "### ---- 5 Establish baseline ----"
      ]
    },
    {
      "cell_type": "code",
      "metadata": {
        "id": "u6CLWRcGTrt6"
      },
      "source": [
        "#select a reasonable metric (MSE in this case)\n",
        "#create an extremely simple (naive) model and measure its efficacy. e.g. use \"average salary\" for each industry as the model and then measure MSE\n",
        "#during 5-fold cross-validation"
      ],
      "execution_count": null,
      "outputs": []
    },
    {
      "cell_type": "markdown",
      "metadata": {
        "id": "n90YGAzYUNaM"
      },
      "source": [
        "First, we create a simple baseline model and then try to compare several model predictions with it. In general, HR will use the mean salary in industries to benchmark the salary, we will use the the mean salary of each industry categories as the baseline reference."
      ]
    },
    {
      "cell_type": "code",
      "metadata": {
        "colab": {
          "base_uri": "https://localhost:8080/",
          "height": 266
        },
        "id": "Wx6OW0wsZ1eu",
        "outputId": "188351d4-78a4-4c07-981b-f7784bd95a4f"
      },
      "source": [
        "avg = train_df.groupby('industry').mean().reset_index()[['industry','salary']]\n",
        "avg"
      ],
      "execution_count": 20,
      "outputs": [
        {
          "output_type": "execute_result",
          "data": {
            "text/html": [
              "<div>\n",
              "<style scoped>\n",
              "    .dataframe tbody tr th:only-of-type {\n",
              "        vertical-align: middle;\n",
              "    }\n",
              "\n",
              "    .dataframe tbody tr th {\n",
              "        vertical-align: top;\n",
              "    }\n",
              "\n",
              "    .dataframe thead th {\n",
              "        text-align: right;\n",
              "    }\n",
              "</style>\n",
              "<table border=\"1\" class=\"dataframe\">\n",
              "  <thead>\n",
              "    <tr style=\"text-align: right;\">\n",
              "      <th></th>\n",
              "      <th>industry</th>\n",
              "      <th>salary</th>\n",
              "    </tr>\n",
              "  </thead>\n",
              "  <tbody>\n",
              "    <tr>\n",
              "      <th>0</th>\n",
              "      <td>AUTO</td>\n",
              "      <td>109.435222</td>\n",
              "    </tr>\n",
              "    <tr>\n",
              "      <th>1</th>\n",
              "      <td>EDUCATION</td>\n",
              "      <td>99.448386</td>\n",
              "    </tr>\n",
              "    <tr>\n",
              "      <th>2</th>\n",
              "      <td>FINANCE</td>\n",
              "      <td>130.747659</td>\n",
              "    </tr>\n",
              "    <tr>\n",
              "      <th>3</th>\n",
              "      <td>HEALTH</td>\n",
              "      <td>115.735540</td>\n",
              "    </tr>\n",
              "    <tr>\n",
              "      <th>4</th>\n",
              "      <td>OIL</td>\n",
              "      <td>130.953863</td>\n",
              "    </tr>\n",
              "    <tr>\n",
              "      <th>5</th>\n",
              "      <td>SERVICE</td>\n",
              "      <td>104.446820</td>\n",
              "    </tr>\n",
              "    <tr>\n",
              "      <th>6</th>\n",
              "      <td>WEB</td>\n",
              "      <td>121.645362</td>\n",
              "    </tr>\n",
              "  </tbody>\n",
              "</table>\n",
              "</div>"
            ],
            "text/plain": [
              "    industry      salary\n",
              "0       AUTO  109.435222\n",
              "1  EDUCATION   99.448386\n",
              "2    FINANCE  130.747659\n",
              "3     HEALTH  115.735540\n",
              "4        OIL  130.953863\n",
              "5    SERVICE  104.446820\n",
              "6        WEB  121.645362"
            ]
          },
          "metadata": {
            "tags": []
          },
          "execution_count": 20
        }
      ]
    },
    {
      "cell_type": "code",
      "metadata": {
        "id": "x7XGpyQvcacp"
      },
      "source": [
        "train_df = pd.merge(train_df, avg, on='industry', how=\"left\")"
      ],
      "execution_count": 21,
      "outputs": []
    },
    {
      "cell_type": "code",
      "metadata": {
        "id": "Sys19eICdU-1"
      },
      "source": [
        "train_df.columns = ['jobId', 'companyId', 'jobType', 'degree', 'major', 'industry',\n",
        "       'yearsExperience', 'milesFromMetropolis', 'salary', 'avg_salary_by_ind']"
      ],
      "execution_count": 22,
      "outputs": []
    },
    {
      "cell_type": "code",
      "metadata": {
        "colab": {
          "base_uri": "https://localhost:8080/",
          "height": 204
        },
        "id": "X5VO6oxCkKA8",
        "outputId": "1c9dc362-2bb9-4491-c715-eac17703d8d0"
      },
      "source": [
        "train_df.head()"
      ],
      "execution_count": 23,
      "outputs": [
        {
          "output_type": "execute_result",
          "data": {
            "text/html": [
              "<div>\n",
              "<style scoped>\n",
              "    .dataframe tbody tr th:only-of-type {\n",
              "        vertical-align: middle;\n",
              "    }\n",
              "\n",
              "    .dataframe tbody tr th {\n",
              "        vertical-align: top;\n",
              "    }\n",
              "\n",
              "    .dataframe thead th {\n",
              "        text-align: right;\n",
              "    }\n",
              "</style>\n",
              "<table border=\"1\" class=\"dataframe\">\n",
              "  <thead>\n",
              "    <tr style=\"text-align: right;\">\n",
              "      <th></th>\n",
              "      <th>jobId</th>\n",
              "      <th>companyId</th>\n",
              "      <th>jobType</th>\n",
              "      <th>degree</th>\n",
              "      <th>major</th>\n",
              "      <th>industry</th>\n",
              "      <th>yearsExperience</th>\n",
              "      <th>milesFromMetropolis</th>\n",
              "      <th>salary</th>\n",
              "      <th>avg_salary_by_ind</th>\n",
              "    </tr>\n",
              "  </thead>\n",
              "  <tbody>\n",
              "    <tr>\n",
              "      <th>0</th>\n",
              "      <td>JOB1362684407687</td>\n",
              "      <td>COMP37</td>\n",
              "      <td>CFO</td>\n",
              "      <td>MASTERS</td>\n",
              "      <td>MATH</td>\n",
              "      <td>HEALTH</td>\n",
              "      <td>10</td>\n",
              "      <td>83</td>\n",
              "      <td>130</td>\n",
              "      <td>115.735540</td>\n",
              "    </tr>\n",
              "    <tr>\n",
              "      <th>1</th>\n",
              "      <td>JOB1362684407688</td>\n",
              "      <td>COMP19</td>\n",
              "      <td>CEO</td>\n",
              "      <td>HIGH_SCHOOL</td>\n",
              "      <td>NONE</td>\n",
              "      <td>WEB</td>\n",
              "      <td>3</td>\n",
              "      <td>73</td>\n",
              "      <td>101</td>\n",
              "      <td>121.645362</td>\n",
              "    </tr>\n",
              "    <tr>\n",
              "      <th>2</th>\n",
              "      <td>JOB1362684407689</td>\n",
              "      <td>COMP52</td>\n",
              "      <td>VICE_PRESIDENT</td>\n",
              "      <td>DOCTORAL</td>\n",
              "      <td>PHYSICS</td>\n",
              "      <td>HEALTH</td>\n",
              "      <td>10</td>\n",
              "      <td>38</td>\n",
              "      <td>137</td>\n",
              "      <td>115.735540</td>\n",
              "    </tr>\n",
              "    <tr>\n",
              "      <th>3</th>\n",
              "      <td>JOB1362684407690</td>\n",
              "      <td>COMP38</td>\n",
              "      <td>MANAGER</td>\n",
              "      <td>DOCTORAL</td>\n",
              "      <td>CHEMISTRY</td>\n",
              "      <td>AUTO</td>\n",
              "      <td>8</td>\n",
              "      <td>17</td>\n",
              "      <td>142</td>\n",
              "      <td>109.435222</td>\n",
              "    </tr>\n",
              "    <tr>\n",
              "      <th>4</th>\n",
              "      <td>JOB1362684407691</td>\n",
              "      <td>COMP7</td>\n",
              "      <td>VICE_PRESIDENT</td>\n",
              "      <td>BACHELORS</td>\n",
              "      <td>PHYSICS</td>\n",
              "      <td>FINANCE</td>\n",
              "      <td>8</td>\n",
              "      <td>16</td>\n",
              "      <td>163</td>\n",
              "      <td>130.747659</td>\n",
              "    </tr>\n",
              "  </tbody>\n",
              "</table>\n",
              "</div>"
            ],
            "text/plain": [
              "              jobId companyId  ... salary avg_salary_by_ind\n",
              "0  JOB1362684407687    COMP37  ...    130        115.735540\n",
              "1  JOB1362684407688    COMP19  ...    101        121.645362\n",
              "2  JOB1362684407689    COMP52  ...    137        115.735540\n",
              "3  JOB1362684407690    COMP38  ...    142        109.435222\n",
              "4  JOB1362684407691     COMP7  ...    163        130.747659\n",
              "\n",
              "[5 rows x 10 columns]"
            ]
          },
          "metadata": {
            "tags": []
          },
          "execution_count": 23
        }
      ]
    },
    {
      "cell_type": "code",
      "metadata": {
        "colab": {
          "base_uri": "https://localhost:8080/"
        },
        "id": "2Wd81QUiZyXB",
        "outputId": "cd900e00-2e5a-483b-e559-35a788ba0781"
      },
      "source": [
        "from sklearn.metrics import mean_squared_error, r2_score\n",
        "print(\"The MSE of baseline model is {:.2f}\".format(mean_squared_error(train_df.salary, train_df.avg_salary_by_ind)))"
      ],
      "execution_count": 24,
      "outputs": [
        {
          "output_type": "stream",
          "text": [
            "The MSE of baseline model is 1367.12\n"
          ],
          "name": "stdout"
        }
      ]
    },
    {
      "cell_type": "markdown",
      "metadata": {
        "id": "GNqiI4_dUnHz"
      },
      "source": [
        "## **Part 3 - Develop**"
      ]
    },
    {
      "cell_type": "markdown",
      "metadata": {
        "id": "PWnnMwYCc-j1"
      },
      "source": [
        "- 3 models are selected to run and compare the MSE\n",
        "- Lasso: a regularized linear regression\n",
        "- Random Forest: multiple decison trees to reduce the variance\n",
        "- Gradient Boosting: train a series of  small decision trees by converting weak learners into strong learners"
      ]
    },
    {
      "cell_type": "code",
      "metadata": {
        "id": "TyGjIeP3axkp"
      },
      "source": [
        "#install pre-processing libraries from sklearn\n",
        "from sklearn.compose import make_column_transformer\n",
        "from sklearn.pipeline import make_pipeline\n",
        "from sklearn.preprocessing import StandardScaler, OneHotEncoder\n",
        "from sklearn.model_selection import train_test_split, GridSearchCV, RandomizedSearchCV\n",
        "# import models\n",
        "from sklearn.linear_model import LassoCV\n",
        "from sklearn.ensemble import RandomForestRegressor, GradientBoostingRegressor"
      ],
      "execution_count": 48,
      "outputs": []
    },
    {
      "cell_type": "code",
      "metadata": {
        "id": "dkS10fAsh_H7"
      },
      "source": [
        "#split features and target variable\n",
        "X = train_df.iloc[:,1:-2]\n",
        "#y = train_df.iloc[:,-2:-1]\n",
        "y = train_df.salary"
      ],
      "execution_count": 25,
      "outputs": []
    },
    {
      "cell_type": "code",
      "metadata": {
        "colab": {
          "base_uri": "https://localhost:8080/",
          "height": 204
        },
        "id": "_NfZ2mh0k07C",
        "outputId": "7e28df8a-f69e-4135-eeee-2899427669ec"
      },
      "source": [
        "X.head()"
      ],
      "execution_count": 26,
      "outputs": [
        {
          "output_type": "execute_result",
          "data": {
            "text/html": [
              "<div>\n",
              "<style scoped>\n",
              "    .dataframe tbody tr th:only-of-type {\n",
              "        vertical-align: middle;\n",
              "    }\n",
              "\n",
              "    .dataframe tbody tr th {\n",
              "        vertical-align: top;\n",
              "    }\n",
              "\n",
              "    .dataframe thead th {\n",
              "        text-align: right;\n",
              "    }\n",
              "</style>\n",
              "<table border=\"1\" class=\"dataframe\">\n",
              "  <thead>\n",
              "    <tr style=\"text-align: right;\">\n",
              "      <th></th>\n",
              "      <th>companyId</th>\n",
              "      <th>jobType</th>\n",
              "      <th>degree</th>\n",
              "      <th>major</th>\n",
              "      <th>industry</th>\n",
              "      <th>yearsExperience</th>\n",
              "      <th>milesFromMetropolis</th>\n",
              "    </tr>\n",
              "  </thead>\n",
              "  <tbody>\n",
              "    <tr>\n",
              "      <th>0</th>\n",
              "      <td>COMP37</td>\n",
              "      <td>CFO</td>\n",
              "      <td>MASTERS</td>\n",
              "      <td>MATH</td>\n",
              "      <td>HEALTH</td>\n",
              "      <td>10</td>\n",
              "      <td>83</td>\n",
              "    </tr>\n",
              "    <tr>\n",
              "      <th>1</th>\n",
              "      <td>COMP19</td>\n",
              "      <td>CEO</td>\n",
              "      <td>HIGH_SCHOOL</td>\n",
              "      <td>NONE</td>\n",
              "      <td>WEB</td>\n",
              "      <td>3</td>\n",
              "      <td>73</td>\n",
              "    </tr>\n",
              "    <tr>\n",
              "      <th>2</th>\n",
              "      <td>COMP52</td>\n",
              "      <td>VICE_PRESIDENT</td>\n",
              "      <td>DOCTORAL</td>\n",
              "      <td>PHYSICS</td>\n",
              "      <td>HEALTH</td>\n",
              "      <td>10</td>\n",
              "      <td>38</td>\n",
              "    </tr>\n",
              "    <tr>\n",
              "      <th>3</th>\n",
              "      <td>COMP38</td>\n",
              "      <td>MANAGER</td>\n",
              "      <td>DOCTORAL</td>\n",
              "      <td>CHEMISTRY</td>\n",
              "      <td>AUTO</td>\n",
              "      <td>8</td>\n",
              "      <td>17</td>\n",
              "    </tr>\n",
              "    <tr>\n",
              "      <th>4</th>\n",
              "      <td>COMP7</td>\n",
              "      <td>VICE_PRESIDENT</td>\n",
              "      <td>BACHELORS</td>\n",
              "      <td>PHYSICS</td>\n",
              "      <td>FINANCE</td>\n",
              "      <td>8</td>\n",
              "      <td>16</td>\n",
              "    </tr>\n",
              "  </tbody>\n",
              "</table>\n",
              "</div>"
            ],
            "text/plain": [
              "  companyId         jobType  ... yearsExperience milesFromMetropolis\n",
              "0    COMP37             CFO  ...              10                  83\n",
              "1    COMP19             CEO  ...               3                  73\n",
              "2    COMP52  VICE_PRESIDENT  ...              10                  38\n",
              "3    COMP38         MANAGER  ...               8                  17\n",
              "4     COMP7  VICE_PRESIDENT  ...               8                  16\n",
              "\n",
              "[5 rows x 7 columns]"
            ]
          },
          "metadata": {
            "tags": []
          },
          "execution_count": 26
        }
      ]
    },
    {
      "cell_type": "code",
      "metadata": {
        "colab": {
          "base_uri": "https://localhost:8080/"
        },
        "id": "PulJ_6RE-0kk",
        "outputId": "8682d82e-6ed2-442d-b61c-85d35fbb6ccb"
      },
      "source": [
        "y.head()"
      ],
      "execution_count": 27,
      "outputs": [
        {
          "output_type": "execute_result",
          "data": {
            "text/plain": [
              "0    130\n",
              "1    101\n",
              "2    137\n",
              "3    142\n",
              "4    163\n",
              "Name: salary, dtype: int64"
            ]
          },
          "metadata": {
            "tags": []
          },
          "execution_count": 27
        }
      ]
    },
    {
      "cell_type": "code",
      "metadata": {
        "id": "ZM54FaIsRyTk"
      },
      "source": [
        "# define categorical/numeric covariates for training\n",
        "categorical = (X.dtypes == object)\n",
        "\n",
        "# Split the data into training and testing set\n",
        "X_train, X_test, y_train, y_test = train_test_split(X, y, test_size=0.1, random_state=42)\n",
        "\n",
        "#scale numeric features and hot-encode categorical features\n",
        "preprocess = make_column_transformer((StandardScaler(with_mean=True, with_std=True),~categorical),\n",
        "                                     (OneHotEncoder(drop='first'), categorical))\n",
        "\n",
        "# Lasso model (coefficient can be zero to reduce unneccesary features)\n",
        "lasso = make_pipeline(preprocess, LassoCV(cv=5, n_jobs=-1, verbose=1, max_iter=200, random_state=42), verbose=1)\n"
      ],
      "execution_count": 28,
      "outputs": []
    },
    {
      "cell_type": "code",
      "metadata": {
        "colab": {
          "base_uri": "https://localhost:8080/"
        },
        "id": "rMDunLtCWM3c",
        "outputId": "556be800-4a48-4c3b-d5ae-cade83ae5f8a"
      },
      "source": [
        "first = lasso.fit(X_train, y_train)"
      ],
      "execution_count": 30,
      "outputs": [
        {
          "output_type": "stream",
          "text": [
            "[Pipeline] . (step 1 of 2) Processing columntransformer, total=   1.8s\n"
          ],
          "name": "stdout"
        },
        {
          "output_type": "stream",
          "text": [
            "[Parallel(n_jobs=-1)]: Using backend ThreadingBackend with 2 concurrent workers.\n",
            "....................................................................................................................................................................................................................................................................................................................................................................................................................................................................................................................[Parallel(n_jobs=-1)]: Done   5 out of   5 | elapsed:  8.3min finished\n"
          ],
          "name": "stderr"
        },
        {
          "output_type": "stream",
          "text": [
            "[Pipeline] ........... (step 2 of 2) Processing lassocv, total= 8.4min\n"
          ],
          "name": "stdout"
        }
      ]
    },
    {
      "cell_type": "code",
      "metadata": {
        "colab": {
          "base_uri": "https://localhost:8080/"
        },
        "id": "DkkIgHl6I1BJ",
        "outputId": "ffdf5f8d-7e1b-4772-b09d-8359a7eacb6d"
      },
      "source": [
        "print(\"The MSE of Lasso is {:.2f}\".format(mean_squared_error(y_test, first.predict(X_test))))"
      ],
      "execution_count": 31,
      "outputs": [
        {
          "output_type": "stream",
          "text": [
            "The MSE of Lasso is 382.33\n"
          ],
          "name": "stdout"
        }
      ]
    },
    {
      "cell_type": "code",
      "metadata": {
        "id": "L-MVqKcNc4b5"
      },
      "source": [
        "# random forest (use multiple decision tree to improve variance)\n",
        "\n",
        "# set the range of the hyper-parameters\n",
        "# Number of trees in random forest\n",
        "n_estimators = [int(x) for x in np.linspace(start = 30, stop = 50, num = 2)]\n",
        "# Maximum number of levels in tree\n",
        "max_depth = [int(x) for x in np.linspace(20, 20, num = 1)]\n",
        "#max_depth.append(None)\n",
        "# Minimum number of samples required to split a node\n",
        "min_samples_split = [5]\n",
        "# Minimum number of samples required at each leaf node\n",
        "min_samples_leaf = [4]\n",
        "\n",
        "# Create the grid\n",
        "grid = {'n_estimators': n_estimators,\n",
        "        'max_depth': max_depth}\n"
      ],
      "execution_count": 76,
      "outputs": []
    },
    {
      "cell_type": "code",
      "metadata": {
        "colab": {
          "base_uri": "https://localhost:8080/"
        },
        "id": "-oxL8y9w3NHy",
        "outputId": "c4cb564d-3261-4ece-d3d4-65063a47b626"
      },
      "source": [
        "grid"
      ],
      "execution_count": 77,
      "outputs": [
        {
          "output_type": "execute_result",
          "data": {
            "text/plain": [
              "{'max_depth': [20], 'n_estimators': [30, 50]}"
            ]
          },
          "metadata": {
            "tags": []
          },
          "execution_count": 77
        }
      ]
    },
    {
      "cell_type": "code",
      "metadata": {
        "id": "CCae54Nh3KpA"
      },
      "source": [
        "rf_cv = GridSearchCV(estimator = RandomForestRegressor(), \n",
        "                     cv=5, param_grid = grid, n_jobs = -1, verbose = 10, \n",
        "                     scoring='neg_mean_squared_error')\n",
        "\n",
        "rf = make_pipeline(preprocess, rf_cv)"
      ],
      "execution_count": 80,
      "outputs": []
    }
  ]
}